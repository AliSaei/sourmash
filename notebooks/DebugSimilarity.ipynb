{
 "cells": [
  {
   "cell_type": "code",
   "execution_count": 1,
   "metadata": {},
   "outputs": [],
   "source": [
    "import os\n",
    "\n",
    "from sourmash_lib.sbt import SBT\n",
    "from sourmash_lib.sbtmh import SigLeaf, search_minhashes_containment, search_minhashes\n",
    "from sourmash_lib import signature\n",
    "\n",
    "SIG_FILES = [os.path.join('..', 'tests', 'test-data', 'demo', f) for f in (                                 \n",
    "    \"SRR2060939_1.sig\", \"SRR2060939_2.sig\", \"SRR2241509_1.sig\",                   \n",
    "    \"SRR2255622_1.sig\", \"SRR453566_1.sig\", \"SRR453569_1.sig\", \"SRR453570_1.sig\")]"
   ]
  },
  {
   "cell_type": "code",
   "execution_count": 2,
   "metadata": {},
   "outputs": [],
   "source": [
    "tree_repair = SBT.load(\"../tests/test-data/leaves.sbt.json\",\n",
    "                       leaf_loader=SigLeaf.load)"
   ]
  },
  {
   "cell_type": "code",
   "execution_count": 3,
   "metadata": {},
   "outputs": [],
   "source": [
    "to_search = signature.load_one_signature(SIG_FILES[0])"
   ]
  },
  {
   "cell_type": "code",
   "execution_count": 36,
   "metadata": {},
   "outputs": [
    {
     "data": {
      "text/plain": [
       "SourmashSignature('SRR2060939_1.fastq.gz', 60f7e23c)"
      ]
     },
     "execution_count": 36,
     "metadata": {},
     "output_type": "execute_result"
    }
   ],
   "source": [
    "to_search"
   ]
  },
  {
   "cell_type": "code",
   "execution_count": 37,
   "metadata": {},
   "outputs": [],
   "source": [
    "results = tree_repair.find(search_minhashes_containment, to_search, 0.1)"
   ]
  },
  {
   "cell_type": "code",
   "execution_count": 38,
   "metadata": {},
   "outputs": [
    {
     "data": {
      "text/plain": [
       "[('6d6e87e1154e95b279e5e7db414bc37b', 0.086, 0.108),\n",
       " ('4e94e60265e04f0763142e20b52c0da1', 0.356, 0.536),\n",
       " ('f71e78178af9e45e6f1d87a0c53c465c', 0.078, 0.14),\n",
       " ('60f7e23c24a8d94791cc7a8680c493f9', 1.0, 1.0)]"
      ]
     },
     "execution_count": 38,
     "metadata": {},
     "output_type": "execute_result"
    }
   ],
   "source": [
    "[(e.name, to_search.similarity(e.data), to_search.contained_by(e.data)) for e in results]"
   ]
  },
  {
   "cell_type": "code",
   "execution_count": 40,
   "metadata": {},
   "outputs": [],
   "source": [
    "results = tree_repair.find(search_minhashes, to_search, 0.1)"
   ]
  },
  {
   "cell_type": "code",
   "execution_count": 42,
   "metadata": {},
   "outputs": [
    {
     "data": {
      "text/plain": [
       "[('4e94e60265e04f0763142e20b52c0da1', 0.356, 0.536),\n",
       " ('60f7e23c24a8d94791cc7a8680c493f9', 1.0, 1.0)]"
      ]
     },
     "execution_count": 42,
     "metadata": {},
     "output_type": "execute_result"
    }
   ],
   "source": [
    "[(e.name, to_search.similarity(e.data), to_search.contained_by(e.data)) for e in results]"
   ]
  },
  {
   "cell_type": "code",
   "execution_count": 11,
   "metadata": {},
   "outputs": [
    {
     "name": "stdout",
     "output_type": "stream",
     "text": [
      "select query k=31 automatically.\n",
      "loaded query: SRR2060939_1.fastq.gz... (k=31, DNA)\n",
      "loaded 7 signatures.                                                           \n",
      "\n",
      "2 matches:\n",
      "similarity   match\n",
      "----------   -----\n",
      "100.0%       SRR2060939_1.fastq.gz\n",
      " 35.6%       SRR2060939_2.fastq.gz\n"
     ]
    }
   ],
   "source": [
    "!sourmash search {SIG_FILES[0]} {\" \".join(SIG_FILES)} --threshold=0.1"
   ]
  },
  {
   "cell_type": "code",
   "execution_count": null,
   "metadata": {},
   "outputs": [],
   "source": []
  }
 ],
 "metadata": {
  "kernelspec": {
   "display_name": "Python 3",
   "language": "python",
   "name": "python3"
  },
  "language_info": {
   "codemirror_mode": {
    "name": "ipython",
    "version": 3
   },
   "file_extension": ".py",
   "mimetype": "text/x-python",
   "name": "python",
   "nbconvert_exporter": "python",
   "pygments_lexer": "ipython3",
   "version": "3.5.3"
  }
 },
 "nbformat": 4,
 "nbformat_minor": 1
}
