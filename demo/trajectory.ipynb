{
 "cells": [
  {
   "cell_type": "code",
   "execution_count": 1,
   "metadata": {
    "collapsed": true
   },
   "outputs": [],
   "source": [
    "%matplotlib inline"
   ]
  },
  {
   "cell_type": "code",
   "execution_count": 2,
   "metadata": {
    "collapsed": true
   },
   "outputs": [],
   "source": [
    "import numpy"
   ]
  },
  {
   "cell_type": "code",
   "execution_count": 3,
   "metadata": {
    "collapsed": false
   },
   "outputs": [],
   "source": [
    "import sys\n",
    "sys.path.append('../')\n",
    "import sourmash_lib\n",
    "import sourmash_signature as sig"
   ]
  },
  {
   "cell_type": "code",
   "execution_count": 4,
   "metadata": {
    "collapsed": true
   },
   "outputs": [],
   "source": [
    "K=32"
   ]
  },
  {
   "cell_type": "code",
   "execution_count": 5,
   "metadata": {
    "collapsed": false
   },
   "outputs": [],
   "source": [
    "import glob\n",
    "def load_series(globname):\n",
    "    filelist = glob.glob(globname)\n",
    "    xlist = []\n",
    "    for name in filelist:\n",
    "        n = int(name.split('.')[-1])\n",
    "        if n % 1000000 != 0:\n",
    "            continue\n",
    "        data = open(name).read()\n",
    "        s = sig.load_signatures(data, select_ksize=K)\n",
    "        assert len(s) == 1\n",
    "        s = s[0]\n",
    "        s.estimator._truncate(500)\n",
    "        xlist.append((n, s))\n",
    "    xlist.sort()\n",
    "    return xlist"
   ]
  },
  {
   "cell_type": "code",
   "execution_count": 6,
   "metadata": {
    "collapsed": false
   },
   "outputs": [],
   "source": [
    "sig_n_list = load_series('SRR2060939_1.fastq.gz.trimnoV.fq.gz.sig.*')\n"
   ]
  },
  {
   "cell_type": "code",
   "execution_count": 7,
   "metadata": {
    "collapsed": true
   },
   "outputs": [],
   "source": [
    "sig2_n_list = load_series('SRR2060939_2.fastq.gz.trimnoV.fq.gz.sig.*')\n"
   ]
  },
  {
   "cell_type": "code",
   "execution_count": 8,
   "metadata": {
    "collapsed": true
   },
   "outputs": [],
   "source": [
    "sig3_n_list = load_series('SRR2241509_1.fastq.gz.trimnoV.fq.gz.sig.*')"
   ]
  },
  {
   "cell_type": "code",
   "execution_count": 9,
   "metadata": {
    "collapsed": true
   },
   "outputs": [],
   "source": [
    "sig3b_n_list = load_series('SRR2255622_1.fastq.gz.trimnoV.fq.gz.sig.*')"
   ]
  },
  {
   "cell_type": "code",
   "execution_count": 10,
   "metadata": {
    "collapsed": false
   },
   "outputs": [],
   "source": [
    "sig4_n_list = load_series('SRR453566_1.fastq.gz.trimnoV.fq.gz.sig.*')\n",
    "sig5_n_list = load_series('SRR453569_1.fastq.gz.trimnoV.fq.gz.sig.*')\n",
    "sig6_n_list = load_series('SRR453570_1.fastq.gz.trimnoV.fq.gz.sig.*')"
   ]
  },
  {
   "cell_type": "code",
   "execution_count": 11,
   "metadata": {
    "collapsed": false
   },
   "outputs": [
    {
     "name": "stdout",
     "output_type": "stream",
     "text": [
      "33\n",
      "31\n",
      "35\n",
      "5\n",
      "3\n",
      "6\n"
     ]
    }
   ],
   "source": [
    "print(len(sig_n_list))\n",
    "print(len(sig2_n_list))\n",
    "print(len(sig3_n_list))\n",
    "print(len(sig4_n_list))\n",
    "print(len(sig5_n_list))\n",
    "print(len(sig6_n_list))"
   ]
  },
  {
   "cell_type": "code",
   "execution_count": 12,
   "metadata": {
    "collapsed": false
   },
   "outputs": [],
   "source": [
    "for (n1, sig1), (n2, sig2) in zip(sig_n_list, sig2_n_list):\n",
    "    assert n1 == n2\n",
    "for (n1, sig1), (n3, sig3) in zip(sig_n_list, sig3_n_list):\n",
    "    assert n1 == n3\n",
    "for (n4, sig4), (n6, sig6) in zip(sig4_n_list, sig6_n_list):\n",
    "    assert n4 == n6"
   ]
  },
  {
   "cell_type": "markdown",
   "metadata": {},
   "source": [
    "## house mouse"
   ]
  },
  {
   "cell_type": "code",
   "execution_count": 13,
   "metadata": {
    "collapsed": true
   },
   "outputs": [],
   "source": [
    "x1 = [ n1 for (n1, sig1), (n2, sig2) in zip(sig_n_list, sig2_n_list) ]\n",
    "y1 = [ sig1.jaccard(sig2) for (n1, sig1), (n2, sig2) in zip(sig_n_list, sig2_n_list) ]"
   ]
  },
  {
   "cell_type": "code",
   "execution_count": 14,
   "metadata": {
    "collapsed": true
   },
   "outputs": [],
   "source": [
    "x2 = [ n1 for (n1, sig1), (n3, sig3) in zip(sig_n_list, sig3_n_list) ]\n",
    "y2 = [ sig1.jaccard(sig3) for (n1, sig1), (n3, sig3) in zip(sig_n_list, sig3_n_list) ]\n",
    "\n",
    "x3 = [ n1 for (n1, sig1), (n2, sig2) in zip(sig3_n_list, sig3b_n_list) ]\n",
    "y3 = [ sig1.jaccard(sig2) for (n1, sig1), (n2, sig2) in zip(sig3_n_list, sig3b_n_list) ]\n"
   ]
  },
  {
   "cell_type": "code",
   "execution_count": 15,
   "metadata": {
    "collapsed": false
   },
   "outputs": [
    {
     "data": {
      "image/png": "[encoded data removed]",
      "text/plain": [
       "<matplotlib.figure.Figure at 0x10682a350>"
      ]
     },
     "metadata": {},
     "output_type": "display_data"
    }
   ],
   "source": [
    "from matplotlib import pylab\n",
    "pylab.plot(numpy.array(x1) / 1e6, y1, label='house mouse, replicates')\n",
    "pylab.plot(numpy.array(x3) / 1e6, y3, label='disease mouse, bio replicates')\n",
    "pylab.plot(numpy.array(x2) / 1e6, y2, label='house mouse vs disease mouse')\n",
    "\n",
    "\n",
    "pylab.axis(ymin=0, ymax=1)\n",
    "pylab.legend(loc='center left')\n",
    "pylab.xlabel('number of reads (millions)')\n",
    "pylab.ylabel('similarity')\n",
    "pylab.savefig('mouse-replicates.pdf')"
   ]
  },
  {
   "cell_type": "markdown",
   "metadata": {},
   "source": [
    "## yeast"
   ]
  },
  {
   "cell_type": "code",
   "execution_count": 16,
   "metadata": {
    "collapsed": true
   },
   "outputs": [],
   "source": [
    "x4 = [ n4 for (n4, sig4), (n6, sig6) in zip(sig4_n_list, sig6_n_list) ]\n",
    "y4 = [ sig4.jaccard(sig6) for (n4, sig4), (n6, sig6) in zip(sig4_n_list, sig6_n_list) ]"
   ]
  },
  {
   "cell_type": "code",
   "execution_count": 17,
   "metadata": {
    "collapsed": false
   },
   "outputs": [
    {
     "data": {
      "text/plain": [
       "(1000000.0, 5000000.0, 0, 1)"
      ]
     },
     "execution_count": 17,
     "metadata": {},
     "output_type": "execute_result"
    },
    {
     "data": {
      "image/png": "[encoded data removed]",
      "text/plain": [
       "<matplotlib.figure.Figure at 0x106380b10>"
      ]
     },
     "metadata": {},
     "output_type": "display_data"
    }
   ],
   "source": [
    "pylab.plot(x4, y4)\n",
    "pylab.axis(ymin=0, ymax=1)"
   ]
  },
  {
   "cell_type": "markdown",
   "metadata": {},
   "source": [
    "## schist mouse"
   ]
  },
  {
   "cell_type": "code",
   "execution_count": 18,
   "metadata": {
    "collapsed": true
   },
   "outputs": [],
   "source": [
    "xs = [ n1 for (n1, sig1), (n2, sig2) in zip(sig3_n_list, sig3b_n_list) ]\n",
    "ys = [ sig1.jaccard(sig2) for (n1, sig1), (n2, sig2) in zip(sig3_n_list, sig3b_n_list) ]"
   ]
  },
  {
   "cell_type": "code",
   "execution_count": 19,
   "metadata": {
    "collapsed": false
   },
   "outputs": [
    {
     "data": {
      "text/plain": [
       "(0.0, 35000000.0, 0, 0.5)"
      ]
     },
     "execution_count": 19,
     "metadata": {},
     "output_type": "execute_result"
    },
    {
     "data": {
      "image/png": "[encoded data removed]",
      "text/plain": [
       "<matplotlib.figure.Figure at 0x10684b490>"
      ]
     },
     "metadata": {},
     "output_type": "display_data"
    }
   ],
   "source": [
    "pylab.plot(numpy.array(xs), ys)\n",
    "pylab.axis(ymax=0.5, ymin=0)\n"
   ]
  },
  {
   "cell_type": "markdown",
   "metadata": {},
   "source": [
    "## versus ref\n"
   ]
  },
  {
   "cell_type": "code",
   "execution_count": 20,
   "metadata": {
    "collapsed": false
   },
   "outputs": [],
   "source": [
    "siglist = sig.load_signatures(open('../species/m_musculus.sig').read(), select_ksize=K)\n",
    "ref = siglist[0]"
   ]
  },
  {
   "cell_type": "code",
   "execution_count": 21,
   "metadata": {
    "collapsed": false
   },
   "outputs": [],
   "source": [
    "x1r = [ n for (n, sig) in sig3_n_list ]\n",
    "y1r = [ sig.jaccard(ref) for (n, sig) in sig3_n_list ]"
   ]
  },
  {
   "cell_type": "code",
   "execution_count": 22,
   "metadata": {
    "collapsed": false
   },
   "outputs": [],
   "source": [
    "x2r = [ n for (n, sig) in sig_n_list ]\n",
    "y2r = [ s.jaccard(ref) for (n, s) in sig_n_list ]"
   ]
  },
  {
   "cell_type": "code",
   "execution_count": 23,
   "metadata": {
    "collapsed": true
   },
   "outputs": [],
   "source": [
    "x3r = [ n for (n, sig) in sig4_n_list ]\n",
    "y3r = [ sig.jaccard(ref) for (n, sig) in sig4_n_list ]"
   ]
  },
  {
   "cell_type": "code",
   "execution_count": 24,
   "metadata": {
    "collapsed": false
   },
   "outputs": [
    {
     "data": {
      "image/png": "[encoded data removed]",
      "text/plain": [
       "<matplotlib.figure.Figure at 0x106e18c10>"
      ]
     },
     "metadata": {},
     "output_type": "display_data"
    }
   ],
   "source": [
    "pylab.plot(numpy.array(x1r) / 1e6, y1r, label='house mouse data')\n",
    "pylab.plot(numpy.array(x2r) / 1e6, y2r, label='disease mouse data')\n",
    "\n",
    "pylab.axis(ymin=0, ymax=0.5)\n",
    "pylab.xlabel('number of reads (millions)')\n",
    "pylab.ylabel('similarity')\n",
    "pylab.title('data stream vs reference transcriptome')\n",
    "pylab.legend(loc='upper left')\n",
    "pylab.savefig('mouse-reads-v-ref.pdf')\n"
   ]
  },
  {
   "cell_type": "code",
   "execution_count": 25,
   "metadata": {
    "collapsed": false
   },
   "outputs": [
    {
     "data": {
      "text/plain": [
       "(1000000.0, 5000000.0, 0, 1)"
      ]
     },
     "execution_count": 25,
     "metadata": {},
     "output_type": "execute_result"
    },
    {
     "data": {
      "image/png": "[encoded data removed]",
      "text/plain": [
       "<matplotlib.figure.Figure at 0x106e39fd0>"
      ]
     },
     "metadata": {},
     "output_type": "display_data"
    }
   ],
   "source": [
    "pylab.plot(x3r, y3r)\n",
    "pylab.axis(ymin=0, ymax=1)"
   ]
  },
  {
   "cell_type": "code",
   "execution_count": 26,
   "metadata": {
    "collapsed": false
   },
   "outputs": [
    {
     "data": {
      "text/plain": [
       "0.002"
      ]
     },
     "execution_count": 26,
     "metadata": {},
     "output_type": "execute_result"
    }
   ],
   "source": [
    "max(y3r)"
   ]
  },
  {
   "cell_type": "code",
   "execution_count": null,
   "metadata": {
    "collapsed": true
   },
   "outputs": [],
   "source": []
  }
 ],
 "metadata": {
  "kernelspec": {
   "display_name": "Python 2",
   "language": "python",
   "name": "python2"
  },
  "language_info": {
   "codemirror_mode": {
    "name": "ipython",
    "version": 2
   },
   "file_extension": ".py",
   "mimetype": "text/x-python",
   "name": "python",
   "nbconvert_exporter": "python",
   "pygments_lexer": "ipython2",
   "version": "2.7.3"
  }
 },
 "nbformat": 4,
 "nbformat_minor": 0
}
