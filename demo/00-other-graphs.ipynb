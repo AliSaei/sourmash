{
 "cells": [
  {
   "cell_type": "markdown",
   "metadata": {},
   "source": [
    "# MinHash signatures - some properties on RNAseq"
   ]
  },
  {
   "cell_type": "code",
   "execution_count": 1,
   "metadata": {
    "collapsed": true
   },
   "outputs": [],
   "source": [
    "%matplotlib inline"
   ]
  },
  {
   "cell_type": "code",
   "execution_count": 2,
   "metadata": {
    "collapsed": true
   },
   "outputs": [],
   "source": [
    "import numpy\n",
    "import sys\n",
    "sys.path.append('../')\n",
    "import sourmash_lib\n",
    "import sourmash_signature as sig"
   ]
  },
  {
   "cell_type": "markdown",
   "metadata": {},
   "source": [
    "## Utility functions"
   ]
  },
  {
   "cell_type": "code",
   "execution_count": 3,
   "metadata": {
    "collapsed": false
   },
   "outputs": [],
   "source": [
    "import glob\n",
    "def load_series(globname):\n",
    "    \"Load a series of signatures, sampled while loading from a stream of reads\"\n",
    "    filelist = glob.glob(globname)\n",
    "    xlist = []\n",
    "    for name in filelist:\n",
    "        n = int(name.split('.')[-1])\n",
    "        if n % 1000000 != 0:\n",
    "            continue\n",
    "        data = open(name).read()\n",
    "        s = sig.load_signatures(data, select_ksize=32)\n",
    "        assert len(s) == 1\n",
    "        s = s[0]\n",
    "        s.estimator._truncate(500)\n",
    "        xlist.append((n, s))\n",
    "    xlist.sort()\n",
    "    return xlist"
   ]
  },
  {
   "cell_type": "code",
   "execution_count": 4,
   "metadata": {
    "collapsed": false
   },
   "outputs": [],
   "source": [
    "house1 = load_series('SRR2060939_1.fastq.gz.trimnoV.fq.gz.sig.*')"
   ]
  },
  {
   "cell_type": "code",
   "execution_count": 5,
   "metadata": {
    "collapsed": true
   },
   "outputs": [],
   "source": [
    "house2 = load_series('SRR2060939_2.fastq.gz.trimnoV.fq.gz.sig.*')"
   ]
  },
  {
   "cell_type": "code",
   "execution_count": 6,
   "metadata": {
    "collapsed": true
   },
   "outputs": [],
   "source": [
    "disease1 = load_series('SRR2241509_1.fastq.gz.trimnoV.fq.gz.sig.*')"
   ]
  },
  {
   "cell_type": "code",
   "execution_count": 7,
   "metadata": {
    "collapsed": true
   },
   "outputs": [],
   "source": [
    "disease2 = load_series('SRR2255622_1.fastq.gz.trimnoV.fq.gz.sig.*')"
   ]
  },
  {
   "cell_type": "code",
   "execution_count": 8,
   "metadata": {
    "collapsed": false
   },
   "outputs": [],
   "source": [
    "yeast1 = load_series('SRR453566_1.fastq.gz.trimnoV.fq.gz.sig.*')\n",
    "yeast2 = load_series('SRR453569_1.fastq.gz.trimnoV.fq.gz.sig.*')\n",
    "yeast3 = load_series('SRR453570_1.fastq.gz.trimnoV.fq.gz.sig.*')"
   ]
  },
  {
   "cell_type": "code",
   "execution_count": 9,
   "metadata": {
    "collapsed": false
   },
   "outputs": [
    {
     "name": "stdout",
     "output_type": "stream",
     "text": [
      "33\n",
      "31\n",
      "35\n",
      "38\n",
      "5\n",
      "3\n",
      "6\n"
     ]
    }
   ],
   "source": [
    "print(len(house1))\n",
    "print(len(house2))\n",
    "print(len(disease1))\n",
    "print(len(disease2))\n",
    "print(len(yeast1))\n",
    "print(len(yeast2))\n",
    "print(len(yeast3))"
   ]
  },
  {
   "cell_type": "code",
   "execution_count": 10,
   "metadata": {
    "collapsed": false
   },
   "outputs": [],
   "source": [
    "# make sure the samples were collected at same distance. note: data sets with more points\n",
    "# get truncated by zip.\n",
    "for (n1, sig1), (n2, sig2) in zip(house1, house2):\n",
    "    assert n1 == n2\n",
    "for (n1, sig1), (n3, sig3) in zip(house1, disease1):\n",
    "    assert n1 == n3\n",
    "for (n4, sig4), (n6, sig6) in zip(yeast1, yeast3):\n",
    "    assert n4 == n6"
   ]
  },
  {
   "cell_type": "markdown",
   "metadata": {},
   "source": [
    "## how do mouse data sets converge w/more reads?\n",
    "\n",
    "Conclusion: you get > 1% similarity even w/in first m reads; data streams generally converge in MinHash similarity."
   ]
  },
  {
   "cell_type": "code",
   "execution_count": 11,
   "metadata": {
    "collapsed": false
   },
   "outputs": [],
   "source": [
    "x1 = [ n1 for (n1, sig1), (n2, sig2) in zip(house1, house2) ]\n",
    "y1 = [ sig1.similarity(sig2) for (n1, sig1), (n2, sig2) in zip(house1, house2) ]"
   ]
  },
  {
   "cell_type": "code",
   "execution_count": 12,
   "metadata": {
    "collapsed": true
   },
   "outputs": [],
   "source": [
    "x2 = [ n1 for (n1, sig1), (n3, sig3) in zip(house1, disease1) ]\n",
    "y2 = [ sig1.similarity(sig3) for (n1, sig1), (n3, sig3) in zip(house1, disease1) ]\n",
    "\n",
    "x3 = [ n1 for (n1, sig1), (n2, sig2) in zip(disease1, disease2) ]\n",
    "y3 = [ sig1.similarity(sig2) for (n1, sig1), (n2, sig2) in zip(disease1, disease2) ]\n"
   ]
  },
  {
   "cell_type": "code",
   "execution_count": 23,
   "metadata": {
    "collapsed": false
   },
   "outputs": [
    {
     "data": {
      "image/png": "[encoded data removed]",
      "text/plain": [
       "<matplotlib.figure.Figure at 0x1063ce850>"
      ]
     },
     "metadata": {},
     "output_type": "display_data"
    }
   ],
   "source": [
    "from matplotlib import pylab\n",
    "pylab.plot(numpy.array(x1) / 1e6, y1, label='house mouse, replicates')\n",
    "pylab.plot(numpy.array(x2) / 1e6, y2, label='house mouse vs disease mouse')\n",
    "pylab.plot(numpy.array(x3) / 1e6, y3, label='disease mouse, bio replicates')\n",
    "\n",
    "pylab.axis(ymin=0, ymax=1)\n",
    "pylab.legend(loc='center left')\n",
    "pylab.xlabel('number of reads (millions)')\n",
    "pylab.ylabel('similarity')\n",
    "pylab.savefig('sourmash-mouse-replicates.png')"
   ]
  },
  {
   "cell_type": "markdown",
   "metadata": {},
   "source": [
    "## how do yeast data sets converge w/more reads?\n",
    "\n",
    "Conclusion: you get very high similarity in yeast replicate conditions."
   ]
  },
  {
   "cell_type": "code",
   "execution_count": 14,
   "metadata": {
    "collapsed": false
   },
   "outputs": [],
   "source": [
    "x4 = [ n4 for (n4, sig4), (n6, sig6) in zip(yeast1, yeast2) ]\n",
    "y4 = [ sig4.similarity(sig6) for (n4, sig4), (n6, sig6) in zip(yeast1, yeast2) ]"
   ]
  },
  {
   "cell_type": "code",
   "execution_count": 24,
   "metadata": {
    "collapsed": false
   },
   "outputs": [
    {
     "data": {
      "image/png": "[encoded data removed]",
      "text/plain": [
       "<matplotlib.figure.Figure at 0x10639ce90>"
      ]
     },
     "metadata": {},
     "output_type": "display_data"
    }
   ],
   "source": [
    "pylab.plot(numpy.array(x4)/1e6, y4, label='yeast r1 vs r3')\n",
    "pylab.axis(ymin=0, ymax=1)\n",
    "pylab.legend(loc='upper right')\n",
    "pylab.xlabel('number of reads (millions)')\n",
    "pylab.ylabel('similarity')\n",
    "pylab.savefig('sourmash-yeast-replicates.png')"
   ]
  },
  {
   "cell_type": "markdown",
   "metadata": {},
   "source": [
    "## A significant part of the mouse stream similarity is due to \"real\" sequence\n",
    "\n",
    "Conclusion: growing similarity between mouse data streams is at least partly because we see growing similarity between mouse data streams and mouse reference transcriptome.\n"
   ]
  },
  {
   "cell_type": "code",
   "execution_count": 16,
   "metadata": {
    "collapsed": false
   },
   "outputs": [],
   "source": [
    "siglist = sig.load_signatures(open('../species/m_musculus.sig').read(), select_ksize=32)\n",
    "assert len(siglist) == 1\n",
    "ref = siglist[0]"
   ]
  },
  {
   "cell_type": "code",
   "execution_count": 17,
   "metadata": {
    "collapsed": false
   },
   "outputs": [],
   "source": [
    "x1r = [ n for (n, s) in disease1 ]\n",
    "y1r = [ s.similarity(ref) for (n, s) in disease1 ]"
   ]
  },
  {
   "cell_type": "code",
   "execution_count": 18,
   "metadata": {
    "collapsed": false
   },
   "outputs": [],
   "source": [
    "x2r = [ n for (n, s) in house1 ]\n",
    "y2r = [ s.similarity(ref) for (n, s) in house1 ]"
   ]
  },
  {
   "cell_type": "code",
   "execution_count": 19,
   "metadata": {
    "collapsed": false
   },
   "outputs": [],
   "source": [
    "x3r = [ n for (n, s) in yeast1 ]\n",
    "y3r = [ s.similarity(ref) for (n, s) in yeast1 ]"
   ]
  },
  {
   "cell_type": "code",
   "execution_count": 25,
   "metadata": {
    "collapsed": false
   },
   "outputs": [
    {
     "data": {
      "image/png": "[encoded data removed]",
      "text/plain": [
       "<matplotlib.figure.Figure at 0x106c7af10>"
      ]
     },
     "metadata": {},
     "output_type": "display_data"
    }
   ],
   "source": [
    "pylab.plot(numpy.array(x1r) / 1e6, y1r, label='house mouse data')\n",
    "pylab.plot(numpy.array(x2r) / 1e6, y2r, label='disease mouse data')\n",
    "\n",
    "pylab.axis(ymin=0, ymax=0.5)\n",
    "pylab.xlabel('number of reads (millions)')\n",
    "pylab.ylabel('similarity')\n",
    "pylab.title('data stream vs reference transcriptome')\n",
    "pylab.legend(loc='upper left')\n",
    "pylab.savefig('sourmash-mouse-reads-v-ref.png')\n"
   ]
  },
  {
   "cell_type": "markdown",
   "metadata": {},
   "source": [
    "## ...but yeast and mouse share no similarity."
   ]
  },
  {
   "cell_type": "code",
   "execution_count": 26,
   "metadata": {
    "collapsed": false
   },
   "outputs": [
    {
     "data": {
      "image/png": "[encoded data removed]",
      "text/plain": [
       "<matplotlib.figure.Figure at 0x106bd48d0>"
      ]
     },
     "metadata": {},
     "output_type": "display_data"
    }
   ],
   "source": [
    "pylab.plot(numpy.array(x3r) / 1e6, y3r, label='yeast data vs mouse ref')\n",
    "pylab.axis(ymin=0, ymax=1)\n",
    "\n",
    "pylab.xlabel('number of reads (millions)')\n",
    "pylab.ylabel('similarity')\n",
    "pylab.savefig('sourmash-yeast-vs-mouse.png')"
   ]
  },
  {
   "cell_type": "code",
   "execution_count": 22,
   "metadata": {
    "collapsed": false
   },
   "outputs": [
    {
     "data": {
      "text/plain": [
       "0.002"
      ]
     },
     "execution_count": 22,
     "metadata": {},
     "output_type": "execute_result"
    }
   ],
   "source": [
    "# there is 0.2% similarity between the yeast data stream and mouse transcriptome:\n",
    "max(y3r)"
   ]
  },
  {
   "cell_type": "code",
   "execution_count": null,
   "metadata": {
    "collapsed": true
   },
   "outputs": [],
   "source": []
  }
 ],
 "metadata": {
  "kernelspec": {
   "display_name": "Python 2",
   "language": "python",
   "name": "python2"
  },
  "language_info": {
   "codemirror_mode": {
    "name": "ipython",
    "version": 2
   },
   "file_extension": ".py",
   "mimetype": "text/x-python",
   "name": "python",
   "nbconvert_exporter": "python",
   "pygments_lexer": "ipython2",
   "version": "2.7.3"
  }
 },
 "nbformat": 4,
 "nbformat_minor": 0
}
